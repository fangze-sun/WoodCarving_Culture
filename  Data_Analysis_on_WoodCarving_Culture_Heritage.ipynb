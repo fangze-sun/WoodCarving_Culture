{
 "cells": [
  {
   "cell_type": "markdown",
   "id": "2d1ab41b-e4cb-45b9-81f5-731070089c79",
   "metadata": {},
   "source": [
    "# Scraper Development"
   ]
  },
  {
   "cell_type": "markdown",
   "id": "b5d84fc6-26a8-43e4-89e2-d801aa33ef14",
   "metadata": {},
   "source": [
    "## 1. Import Packages"
   ]
  },
  {
   "cell_type": "code",
   "execution_count": 1,
   "id": "7ac0ad09-3ea0-423b-9eb7-b86bbf475261",
   "metadata": {},
   "outputs": [],
   "source": [
    "import pandas as pd\n",
    "import numpy as np\n",
    "import requests\n",
    "from bs4 import BeautifulSoup\n",
    "import plotly.express as px\n",
    "import plotly.graph_objects as go\n",
    "import matplotlib.pyplot as plt\n",
    "import jieba\n",
    "from collections import Counter\n",
    "import kaleido\n",
    "import plotly.io as pio\n",
    "pio.renderers.default = \"png\""
   ]
  },
  {
   "cell_type": "markdown",
   "id": "d40adb20-55f5-4f22-90f6-96d2e82aabd5",
   "metadata": {},
   "source": [
    "## 2. Send Requests"
   ]
  },
  {
   "cell_type": "code",
   "execution_count": null,
   "id": "945e7025-242d-4443-a9ab-e6fa9557ee49",
   "metadata": {},
   "outputs": [],
   "source": [
    "'''\n",
    "date(v0):March 10 2025\n",
    "@ author: Susan Sun\n",
    "-function: send requests to any given url\n",
    "-parameters:  \n",
    "    - url: given link to scrape from\n",
    "-return: \n",
    "    - soup: all the information on the page\n",
    "'''\n",
    "def send_request(url): \n",
    "    headers = {'User-Agent': 'Mozilla/5.0 (Windows NT 10.0; Win64; x64) AppleWebKit/537.36 (KHTML, like Gecko) Chrome/91.0.4472.124 Safari/537.36'}\n",
    "    reponse = requests.get(url=url,headers=headers)\n",
    "    soup = BeautifulSoup(reponse.content,\"html.parser\")\n",
    "    return soup"
   ]
  },
  {
   "cell_type": "markdown",
   "id": "08fdf080-d070-4f80-aa8c-4162a2a9eb1c",
   "metadata": {},
   "source": [
    "## 3. Inspect results\n",
    "\n",
    "### 3.1 General Video Information"
   ]
  },
  {
   "cell_type": "code",
   "execution_count": null,
   "id": "23e7f47f-38bb-4537-8735-6ff75dad1760",
   "metadata": {},
   "outputs": [],
   "source": [
    "'''\n",
    "date: March 10 2025\n",
    "@ author: Susan Sun\n",
    "-function: extract general video information, including titles, authors, durations, and links\n",
    "-parameters: \n",
    "    - soup: from the request (all the information on the page)\n",
    "-return:\n",
    "    - general_info: pandas DataFrame containing four general info\n",
    "'''\n",
    "def get_general_info(soup):\n",
    "    items = soup.find_all(\"div\",class_=\"bili-video-card__info\")\n",
    "    titles = pd.DataFrame([],columns=[\"Title\"])\n",
    "    ups = pd.DataFrame([],columns=[\"Up\"])\n",
    "    links = pd.DataFrame([],columns=[\"Link\"])\n",
    "\n",
    "    for i in items:\n",
    "        title = i.find(\"h3\",class_=\"bili-video-card__info--tit\").text\n",
    "        title = pd.DataFrame([title],columns=[\"Title\"])\n",
    "   \n",
    "        up = i.find(\"span\",class_=\"bili-video-card__info--author\").text\n",
    "        up = pd.DataFrame([up],columns=[\"Up\"])\n",
    "       \n",
    "        link = \"https:\" + i.find(\"a\")[\"href\"]\n",
    "        link = pd.DataFrame([link],columns=[\"Link\"])\n",
    "\n",
    "        titles = pd.concat([titles,title],ignore_index=True)\n",
    "        ups = pd.concat([ups,up],ignore_index=True)\n",
    "        links = pd.concat([links,link],ignore_index=True)\n",
    "\n",
    "    general_info = pd.concat([titles,ups,links],axis=1,ignore_index=False)\n",
    "\n",
    "    '''GET DURATION'''\n",
    "    items2 = soup.find_all(\"div\",class_=\"bili-video-card__stats\")\n",
    "\n",
    "    durations = pd.DataFrame([],columns=[\"Duration\"])\n",
    "    for i in items2:\n",
    "        duration = i.find(\"span\",class_=\"bili-video-card__stats__duration\").text\n",
    "        duration = pd.DataFrame([duration],columns=[\"Duration\"])\n",
    "        durations = pd.concat([durations,duration],ignore_index=True)\n",
    "\n",
    "    general_info = pd.concat([general_info,durations],axis=1,ignore_index=False)\n",
    "   \n",
    "    return general_info"
   ]
  },
  {
   "cell_type": "markdown",
   "id": "68f87d0e-a28c-43f0-918b-5fd57ccd11f5",
   "metadata": {},
   "source": [
    "### 3.2 Interactive Information"
   ]
  },
  {
   "cell_type": "code",
   "execution_count": null,
   "id": "ba93fb4a-d6a8-4c60-b4f0-fac8481738ac",
   "metadata": {},
   "outputs": [],
   "source": [
    "'''\n",
    "date: March 10 2025\n",
    "@ author: Susan Sun\n",
    "-function: extract interactive information, including likes, coins, favs, shares, views, dms, and pubdates\n",
    "-parameters:\n",
    "    - general_info (output from get_general_info, we need links form it)\n",
    "-return:\n",
    "    - interact_info: a pandas DataFrame containing six audiences interactive information. Plus, pubdates in correct format.\n",
    "'''\n",
    "def get_interact_info(general_info):\n",
    "\n",
    "    '''初始化'''\n",
    "    likes = pd.DataFrame([],columns=[\"点赞量\"])\n",
    "    coins = pd.DataFrame([], columns=[\"投币量\"])\n",
    "    favs = pd.DataFrame([], columns=[\"收藏量\"])\n",
    "    shares = pd.DataFrame([], columns=[\"转发量\"])\n",
    "    views = pd.DataFrame([], columns=[\"播放量\"])\n",
    "    dms = pd.DataFrame([], columns=[\"弹幕量\"])\n",
    "    pubdates = pd.DataFrame([],columns=[\"发布时间\"])\n",
    "    \n",
    "    for www in general_info[\"Link\"]:\n",
    "        url = www\n",
    "        headers = {'User-Agent': 'Mozilla/5.0 (Windows NT 10.0; Win64; x64) AppleWebKit/537.36 (KHTML, like Gecko) Chrome/91.0.4472.124 Safari/537.36'}\n",
    "        reponse = requests.get(url=url,headers=headers)\n",
    "        soup = BeautifulSoup(reponse.content,\"html.parser\")\n",
    "        \n",
    "        '''对应每一类不同信息的位置'''\n",
    "        #1.1：点赞的位置\n",
    "        like = soup.find_all(\"div\",class_=\"video-like video-toolbar-left-item\")\n",
    "        #2.1：投币量的位置\n",
    "        coin = soup.find_all('div', class_=\"video-coin video-toolbar-left-item\")\n",
    "        #3.1：收藏量的位置\n",
    "        fav = soup.find_all('div', class_=\"video-fav video-toolbar-left-item\")\n",
    "        #4.1：转发量的位置\n",
    "        share = soup.find_all('div', class_=\"video-share-wrap video-toolbar-left-item\")\n",
    "        #5.1: 播放量的数量\n",
    "        view = soup.find_all(\"div\",class_=\"view item\")\n",
    "        #6.1: 弹幕量的数量\n",
    "        dm = soup.find_all(\"div\",class_=\"dm item\")\n",
    "        #7.1：投稿时间\n",
    "        pubdate = soup.find_all(\"div\",class_=\"pubdate-ip item\")\n",
    "        \n",
    "        '''收集对应每一类的数量'''\n",
    "        #1.2：点赞量的数量\n",
    "        for l in like:\n",
    "            l = l.find(\"span\",class_=\"video-like-info video-toolbar-item-text\").text\n",
    "            l = pd.DataFrame([l],columns=[\"点赞量\"])\n",
    "        #2.2: 投币的数量\n",
    "        for c in coin:\n",
    "            c = c.find(\"span\", class_=\"video-coin-info video-toolbar-item-text\").text\n",
    "            c = pd.DataFrame([c],columns=[\"投币量\"])\n",
    "        #3.2：收藏的数量\n",
    "        for f in fav:\n",
    "            f = f.find(\"span\", class_=\"video-fav-info video-toolbar-item-text\").text\n",
    "            f = pd.DataFrame([f],columns=[\"收藏量\"])  \n",
    "        #4.1：转发量的位置\n",
    "        share = soup.find_all('div', class_=\"video-share-wrap video-toolbar-left-item\")\n",
    "        for s in share:\n",
    "            s = s.find(\"span\", class_=\"video-share-info video-toolbar-item-text\").text\n",
    "            s = pd.DataFrame([s],columns=[\"转发量\"]) \n",
    "        #5.2: 播放量的位置\n",
    "        for v in view:\n",
    "            v = v.find(\"div\",class_=\"view-text\").text\n",
    "            v = pd.DataFrame([v],columns=[\"播放量\"])\n",
    "        #6.2: 弹幕量的位置\n",
    "        for d in dm:\n",
    "            d = d.find(\"div\",class_=\"dm-text\").text\n",
    "            d = pd.DataFrame([d],columns=[\"弹幕量\"])\n",
    "        #7.2: 发布时间的位置\n",
    "        for p in pubdate:\n",
    "            p = p.find(\"div\",class_=\"pubdate-ip-text\")\n",
    "            p = pd.DataFrame([p],columns=[\"发布时间\"])\n",
    "            \n",
    "        '''添加到数据集'''\n",
    "        likes = pd.concat([likes,l],ignore_index=True)\n",
    "        coins = pd.concat([coins,c],ignore_index=True)\n",
    "        favs = pd.concat([favs,f],ignore_index=True)\n",
    "        shares = pd.concat([shares,s],ignore_index=True)\n",
    "        views = pd.concat([views,v],ignore_index=True)\n",
    "        dms = pd.concat([dms,d],ignore_index=True)\n",
    "        pubdates = pd.concat([pubdates,p],ignore_index=True)\n",
    "    \n",
    "    '''合并7个数据集'''\n",
    "    interact_info = pd.concat([likes,coins,favs,shares,views,dms,pubdates],axis=1,ignore_index=False)\n",
    "        \n",
    "    return interact_info"
   ]
  },
  {
   "cell_type": "markdown",
   "id": "811414c3-0d2d-48e0-94c3-f9d7ec307a2c",
   "metadata": {},
   "source": [
    "## 4. Wrap Results"
   ]
  },
  {
   "cell_type": "code",
   "execution_count": null,
   "id": "e7480d08-7374-417a-a0cf-aa89f297c103",
   "metadata": {},
   "outputs": [],
   "source": [
    "'''\n",
    "-----run all functions-----\n",
    "1. send_request (url) ---> soup\n",
    "2. get_general_info (soup) ---> general_info\n",
    "3. get_interact_info (general_info) ---> interact_info\n",
    "4. all_info = pd.concat([2,3])\n",
    "'''\n",
    "\n",
    "base = \"https://search.bilibili.com/all?keyword=非遗木雕&page=\"\n",
    "urls = [base + str (page) for page in range (1,35)]\n",
    "\n",
    "#initialize of blank dataframe of all pages\n",
    "culture_heritage_video = pd.DataFrame ()\n",
    "print (\"> > > running scraper for cultural heritage video data...\")\n",
    "pg = 1\n",
    "for url in urls:\n",
    "    #1. send request: \n",
    "    soup = send_request (url)\n",
    "    #2. get general info based on soup\n",
    "    general_info = get_general_info (soup)\n",
    "    #3. get interactive info based on general info\n",
    "    interact_info = get_interact_info (general_info)\n",
    "    #4. merge all\n",
    "    all_info = pd.concat([general_info, interact_info], axis=1, ignore_index=False)\n",
    "    culture_heritage_video = pd.concat([culture_heritage_video, all_info], axis=0, ignore_index=True)\n",
    "    print (\"videos on Page \" + str (pg) + \" saved.\")\n",
    "    pg += 1\n",
    "\n",
    "#5. output as CSV\n",
    "culture_heritage_video.to_csv('culture_heritage_video.csv', index=False, header= True)\n",
    "print (\"> > > all 34 pages have been saved in the csv.\")"
   ]
  },
  {
   "cell_type": "code",
   "execution_count": null,
   "id": "44e38074-3676-4b3b-bf77-7fb452349733",
   "metadata": {},
   "outputs": [],
   "source": [
    "base = \"https://search.bilibili.com/all?keyword=非遗木雕&page=\""
   ]
  },
  {
   "cell_type": "markdown",
   "id": "2d48e1ce-4b6d-4878-98b7-106b83f3ae4b",
   "metadata": {},
   "source": [
    "# Data Analysis\n",
    "## 1. Data Cleaning"
   ]
  },
  {
   "cell_type": "code",
   "execution_count": 3,
   "id": "4e180496-5a94-451e-8da5-fb9745d3ee17",
   "metadata": {},
   "outputs": [
    {
     "data": {
      "text/html": [
       "<div>\n",
       "<style scoped>\n",
       "    .dataframe tbody tr th:only-of-type {\n",
       "        vertical-align: middle;\n",
       "    }\n",
       "\n",
       "    .dataframe tbody tr th {\n",
       "        vertical-align: top;\n",
       "    }\n",
       "\n",
       "    .dataframe thead th {\n",
       "        text-align: right;\n",
       "    }\n",
       "</style>\n",
       "<table border=\"1\" class=\"dataframe\">\n",
       "  <thead>\n",
       "    <tr style=\"text-align: right;\">\n",
       "      <th></th>\n",
       "      <th>Title</th>\n",
       "      <th>Up</th>\n",
       "      <th>Link</th>\n",
       "      <th>Duration</th>\n",
       "      <th>点赞量</th>\n",
       "      <th>投币量</th>\n",
       "      <th>收藏量</th>\n",
       "      <th>转发量</th>\n",
       "      <th>播放量</th>\n",
       "      <th>弹幕量</th>\n",
       "      <th>发布时间</th>\n",
       "    </tr>\n",
       "  </thead>\n",
       "  <tbody>\n",
       "    <tr>\n",
       "      <th>16</th>\n",
       "      <td>非遗木雕技艺——传承与创新</td>\n",
       "      <td>是秋秋秋秋秋啊</td>\n",
       "      <td>https://www.bilibili.com/video/BV1LMtPewEv7/</td>\n",
       "      <td>03:45</td>\n",
       "      <td>2</td>\n",
       "      <td>2</td>\n",
       "      <td>2</td>\n",
       "      <td>3</td>\n",
       "      <td>154</td>\n",
       "      <td>0</td>\n",
       "      <td>2024-09-14 07:37:31</td>\n",
       "    </tr>\n",
       "    <tr>\n",
       "      <th>511</th>\n",
       "      <td>跟我一起做你的人生第一个木雕~哇酷哇酷</td>\n",
       "      <td>刁刻岛</td>\n",
       "      <td>https://www.bilibili.com/video/BV1KkQJYqE5A/</td>\n",
       "      <td>01:56</td>\n",
       "      <td>3946</td>\n",
       "      <td>126</td>\n",
       "      <td>1004</td>\n",
       "      <td>47</td>\n",
       "      <td>5.8万</td>\n",
       "      <td>38</td>\n",
       "      <td>2025-03-12 12:58:20</td>\n",
       "    </tr>\n",
       "    <tr>\n",
       "      <th>391</th>\n",
       "      <td>【木雕教学】要避免的 5 个初学者削减错误！</td>\n",
       "      <td>手艺人鲁班班</td>\n",
       "      <td>https://www.bilibili.com/video/BV1id4y1g7a3/</td>\n",
       "      <td>07:04</td>\n",
       "      <td>214</td>\n",
       "      <td>8</td>\n",
       "      <td>302</td>\n",
       "      <td>14</td>\n",
       "      <td>1.4万</td>\n",
       "      <td>10</td>\n",
       "      <td>2022-09-19 16:27:26</td>\n",
       "    </tr>\n",
       "    <tr>\n",
       "      <th>505</th>\n",
       "      <td>【非遗绒花】中式传统红配绿俗？我想你没见过这支花</td>\n",
       "      <td>慕容意的手工小记</td>\n",
       "      <td>https://www.bilibili.com/video/BV1gB4y1Q7qX/</td>\n",
       "      <td>02:06</td>\n",
       "      <td>5.1万</td>\n",
       "      <td>3644</td>\n",
       "      <td>2.1万</td>\n",
       "      <td>510</td>\n",
       "      <td>202.7万</td>\n",
       "      <td>322</td>\n",
       "      <td>2022-06-06 20:20:05</td>\n",
       "    </tr>\n",
       "    <tr>\n",
       "      <th>192</th>\n",
       "      <td>《祥雲》——纯手工雕刻全过程</td>\n",
       "      <td>雕刻师何同学</td>\n",
       "      <td>https://www.bilibili.com/video/BV1y7qZYTEmy/</td>\n",
       "      <td>01:00</td>\n",
       "      <td>129</td>\n",
       "      <td>11</td>\n",
       "      <td>133</td>\n",
       "      <td>8</td>\n",
       "      <td>2336</td>\n",
       "      <td>0</td>\n",
       "      <td>2024-12-15 16:33:41</td>\n",
       "    </tr>\n",
       "  </tbody>\n",
       "</table>\n",
       "</div>"
      ],
      "text/plain": [
       "                        Title        Up  \\\n",
       "16              非遗木雕技艺——传承与创新   是秋秋秋秋秋啊   \n",
       "511       跟我一起做你的人生第一个木雕~哇酷哇酷       刁刻岛   \n",
       "391    【木雕教学】要避免的 5 个初学者削减错误！    手艺人鲁班班   \n",
       "505  【非遗绒花】中式传统红配绿俗？我想你没见过这支花  慕容意的手工小记   \n",
       "192            《祥雲》——纯手工雕刻全过程    雕刻师何同学   \n",
       "\n",
       "                                             Link Duration   点赞量   投币量   收藏量  \\\n",
       "16   https://www.bilibili.com/video/BV1LMtPewEv7/    03:45     2     2     2   \n",
       "511  https://www.bilibili.com/video/BV1KkQJYqE5A/    01:56  3946   126  1004   \n",
       "391  https://www.bilibili.com/video/BV1id4y1g7a3/    07:04   214     8   302   \n",
       "505  https://www.bilibili.com/video/BV1gB4y1Q7qX/    02:06  5.1万  3644  2.1万   \n",
       "192  https://www.bilibili.com/video/BV1y7qZYTEmy/    01:00   129    11   133   \n",
       "\n",
       "     转发量     播放量  弹幕量                 发布时间  \n",
       "16     3     154    0  2024-09-14 07:37:31  \n",
       "511   47    5.8万   38  2025-03-12 12:58:20  \n",
       "391   14    1.4万   10  2022-09-19 16:27:26  \n",
       "505  510  202.7万  322  2022-06-06 20:20:05  \n",
       "192    8    2336    0  2024-12-15 16:33:41  "
      ]
     },
     "execution_count": 3,
     "metadata": {},
     "output_type": "execute_result"
    }
   ],
   "source": [
    "raw_data = pd.read_csv(\"culture_heritage_video.csv\")\n",
    "raw_data.sample(5)"
   ]
  },
  {
   "cell_type": "code",
   "execution_count": 5,
   "id": "5186d98c-4b71-466d-ad31-dec443a895cc",
   "metadata": {},
   "outputs": [
    {
     "name": "stdout",
     "output_type": "stream",
     "text": [
      "<class 'pandas.core.frame.DataFrame'>\n",
      "RangeIndex: 1000 entries, 0 to 999\n",
      "Data columns (total 11 columns):\n",
      " #   Column    Non-Null Count  Dtype \n",
      "---  ------    --------------  ----- \n",
      " 0   Title     1000 non-null   object\n",
      " 1   Up        1000 non-null   object\n",
      " 2   Link      1000 non-null   object\n",
      " 3   Duration  1000 non-null   object\n",
      " 4   点赞量       1000 non-null   object\n",
      " 5   投币量       1000 non-null   object\n",
      " 6   收藏量       1000 non-null   object\n",
      " 7   转发量       1000 non-null   object\n",
      " 8   播放量       1000 non-null   object\n",
      " 9   弹幕量       1000 non-null   object\n",
      " 10  发布时间      1000 non-null   object\n",
      "dtypes: object(11)\n",
      "memory usage: 86.1+ KB\n"
     ]
    }
   ],
   "source": [
    "raw_data.info()"
   ]
  },
  {
   "cell_type": "markdown",
   "id": "336e071d-ade0-445b-a02e-005544ade4e2",
   "metadata": {},
   "source": [
    "### 1.1 Filter irrelevant contents"
   ]
  },
  {
   "cell_type": "code",
   "execution_count": 8,
   "id": "96a7815e-96b8-4c27-b944-b9c3dfabc984",
   "metadata": {},
   "outputs": [],
   "source": [
    "raw_data = raw_data[raw_data[\"Title\"].str.contains(\"木雕\")]"
   ]
  },
  {
   "cell_type": "markdown",
   "id": "acb76852-8259-49c0-8c2f-bfc2020a1551",
   "metadata": {},
   "source": [
    "### 1.2 Clean abnormal values"
   ]
  },
  {
   "cell_type": "code",
   "execution_count": 11,
   "id": "a1c97bb9-e384-414a-b5d0-82ad15aed7e7",
   "metadata": {},
   "outputs": [],
   "source": [
    "'''Syntax: df.loc[df[column]==\"点赞\", 被替换列的名字] = 新的值'''\n",
    "raw_data.loc[raw_data[\"点赞量\"] == \"点赞\", \"点赞量\"] = \"0\"\n",
    "raw_data.loc[raw_data[\"投币量\"] == \"投币\", \"投币量\"] = \"0\"\n",
    "raw_data.loc[raw_data[\"收藏量\"] == \"收藏\", \"收藏量\"] = \"0\"\n",
    "raw_data.loc[raw_data[\"转发量\"] == \"分享\", \"转发量\"] = \"0\""
   ]
  },
  {
   "cell_type": "markdown",
   "id": "e6627a94-8a41-40c4-a472-b6fb23ae821b",
   "metadata": {},
   "source": [
    "### 1.3 Drop duplicates"
   ]
  },
  {
   "cell_type": "code",
   "execution_count": 14,
   "id": "f67074c7-9098-4594-8178-dca987f1b358",
   "metadata": {},
   "outputs": [
    {
     "data": {
      "text/plain": [
       "(424, 11)"
      ]
     },
     "execution_count": 14,
     "metadata": {},
     "output_type": "execute_result"
    }
   ],
   "source": [
    "raw_data = raw_data.drop_duplicates().reset_index(drop=True)\n",
    "raw_data.shape"
   ]
  },
  {
   "cell_type": "markdown",
   "id": "31c34871-dcfb-4044-ab0d-5055de964269",
   "metadata": {},
   "source": [
    "### 1.4 Standardize units"
   ]
  },
  {
   "cell_type": "code",
   "execution_count": 17,
   "id": "4c47f730-cb7c-4bb3-b082-0cc414c51cd3",
   "metadata": {},
   "outputs": [],
   "source": [
    "raw_data[\"点赞量\"] = raw_data[\"点赞量\"].apply(lambda x: int (float (x [:-1])*10000) if \"万\" in x else int(x))\n",
    "raw_data[\"投币量\"] = raw_data[\"投币量\"].apply(lambda x: int (float (x [:-1])*10000) if \"万\" in x else int (x))\n",
    "raw_data[\"收藏量\"] = raw_data[\"收藏量\"].apply(lambda x : int (float (x [:-1])*10000) if \"万\" in x else int (x))\n",
    "raw_data[\"转发量\"] = raw_data[\"转发量\"].apply(lambda x : int (float (x [:-1])*10000) if \"万\" in x else int (x))\n",
    "raw_data[\"播放量\"]= raw_data[\"播放量\"].apply(lambda x : int (float (x [:-1])*10000) if \"万\" in x else int (x))\n",
    "raw_data[\"弹幕量\"]= raw_data[\"弹幕量\"].apply(lambda x : int (float (x [:-1])*10000) if \"万\" in x else int (x))"
   ]
  },
  {
   "cell_type": "markdown",
   "id": "eb49cfeb-9338-4efa-8618-f9bfc5ea56ab",
   "metadata": {},
   "source": [
    "### 1.5 Unify data types"
   ]
  },
  {
   "cell_type": "code",
   "execution_count": 20,
   "id": "7ece988a-ec89-404b-a615-b1a42c2ac4dd",
   "metadata": {},
   "outputs": [],
   "source": [
    "'''\n",
    "date: March 24 2025\n",
    "@ author: Susan Sun\n",
    "-function: convert time of different formats into seconds\n",
    "-parameters:\n",
    "    - x: a string (format1: hh:mm:ss or format2: mm:ss)\n",
    "-return:\n",
    "    - second: int number of second\n",
    "'''\n",
    "def hms_to_sec(x):\n",
    "    hms = x.split(\":\")\n",
    "    # mm:ss\n",
    "    if len(hms) == 2:\n",
    "        sec = int (hms[-2])*60 + int (hms [-1])\n",
    "    # hh:mm:ss\n",
    "    else: \n",
    "        sec = int (hms[-3])*3600 + int (hms [-2])*60 + int (hms [-1])\n",
    "    return sec"
   ]
  },
  {
   "cell_type": "code",
   "execution_count": 22,
   "id": "1d333f5d-3bd5-4141-871b-e792822fef0c",
   "metadata": {},
   "outputs": [],
   "source": [
    "second = raw_data[\"Duration\"].apply(lambda x: hms_to_sec(x))\n",
    "raw_data.insert(4, \"Duration_sec\", second)"
   ]
  },
  {
   "cell_type": "markdown",
   "id": "e04f15bd-aede-4fb1-90ad-bb5a935b2dc1",
   "metadata": {},
   "source": [
    "## 2 Feature Engineering"
   ]
  },
  {
   "cell_type": "markdown",
   "id": "6b908b14-ce0c-452d-be97-f5b49ce39fea",
   "metadata": {},
   "source": [
    "### 2.1 Generate New Features: Published Year and Month"
   ]
  },
  {
   "cell_type": "code",
   "execution_count": 26,
   "id": "23e0f01d-e41a-4ab2-a25a-15c5fba44677",
   "metadata": {},
   "outputs": [],
   "source": [
    "raw_data[\"发布时间\"] = pd.to_datetime(raw_data[\"发布时间\"])\n",
    "# extract year from date\n",
    "raw_data[\"Publish Year\"] = raw_data[\"发布时间\"].dt.year\n",
    "raw_data[\"Publish Month\"] = raw_data[\"发布时间\"].dt.month"
   ]
  },
  {
   "cell_type": "markdown",
   "id": "890c5444-36e3-4621-b55c-8634873e1e6f",
   "metadata": {},
   "source": [
    "### 2.2 Generate New Features: Recommend Rate\n",
    "- Calculate recommend rate based on metrics of audience interactions and the platform recommend algorithm.\n",
    "- $$rec\\ rate = share \\times0.6 + coin \\times0.4 + like \\times0.4 + Danmu \\times0.4 + fav \\times0.3 + view \\times0.25$$\n",
    "- When the view less than the 10/3 times recommend rate the platform will recommend."
   ]
  },
  {
   "cell_type": "code",
   "execution_count": 29,
   "id": "2ef8058e-c516-47d3-a61d-df3b864f9cb0",
   "metadata": {},
   "outputs": [],
   "source": [
    "raw_data[\"recommend_rate\"] = (10/3)*(raw_data[\"转发量\"]*0.6 + raw_data[\"投币量\"]*0.4 + raw_data[\"点赞量\"]*0.4 + raw_data[\"弹幕量\"]*0.4 + raw_data[\"收藏量\"]*0.3 + raw_data[\"播放量\"]*0.25)"
   ]
  },
  {
   "cell_type": "code",
   "execution_count": 31,
   "id": "79ab8b8e-3245-4f3e-8170-81d9cea8fa1d",
   "metadata": {},
   "outputs": [
    {
     "data": {
      "text/html": [
       "<div>\n",
       "<style scoped>\n",
       "    .dataframe tbody tr th:only-of-type {\n",
       "        vertical-align: middle;\n",
       "    }\n",
       "\n",
       "    .dataframe tbody tr th {\n",
       "        vertical-align: top;\n",
       "    }\n",
       "\n",
       "    .dataframe thead th {\n",
       "        text-align: right;\n",
       "    }\n",
       "</style>\n",
       "<table border=\"1\" class=\"dataframe\">\n",
       "  <thead>\n",
       "    <tr style=\"text-align: right;\">\n",
       "      <th></th>\n",
       "      <th>Title</th>\n",
       "      <th>Up</th>\n",
       "      <th>Link</th>\n",
       "      <th>Duration</th>\n",
       "      <th>Duration_sec</th>\n",
       "      <th>点赞量</th>\n",
       "      <th>投币量</th>\n",
       "      <th>收藏量</th>\n",
       "      <th>转发量</th>\n",
       "      <th>播放量</th>\n",
       "      <th>弹幕量</th>\n",
       "      <th>发布时间</th>\n",
       "      <th>Publish Year</th>\n",
       "      <th>Publish Month</th>\n",
       "      <th>recommend_rate</th>\n",
       "    </tr>\n",
       "  </thead>\n",
       "  <tbody>\n",
       "    <tr>\n",
       "      <th>398</th>\n",
       "      <td>【木雕】神奇！如何四分钟在木头上雕出一朵小花来！</td>\n",
       "      <td>卞九</td>\n",
       "      <td>https://www.bilibili.com/video/BV1qx411m7Xh/</td>\n",
       "      <td>04:13</td>\n",
       "      <td>253</td>\n",
       "      <td>50</td>\n",
       "      <td>128</td>\n",
       "      <td>682</td>\n",
       "      <td>40</td>\n",
       "      <td>34000</td>\n",
       "      <td>135</td>\n",
       "      <td>2017-05-07 21:34:30</td>\n",
       "      <td>2017</td>\n",
       "      <td>5</td>\n",
       "      <td>29512.666667</td>\n",
       "    </tr>\n",
       "    <tr>\n",
       "      <th>37</th>\n",
       "      <td>《非遗中国·重庆瑰宝》第19集：奉节阴沉木雕</td>\n",
       "      <td>非遗小当家</td>\n",
       "      <td>https://www.bilibili.com/video/BV1Cx411i7Wy/</td>\n",
       "      <td>15:00</td>\n",
       "      <td>900</td>\n",
       "      <td>15</td>\n",
       "      <td>5</td>\n",
       "      <td>67</td>\n",
       "      <td>45</td>\n",
       "      <td>2030</td>\n",
       "      <td>1</td>\n",
       "      <td>2017-07-22 19:45:12</td>\n",
       "      <td>2017</td>\n",
       "      <td>7</td>\n",
       "      <td>1876.666667</td>\n",
       "    </tr>\n",
       "    <tr>\n",
       "      <th>131</th>\n",
       "      <td>《黑神话：悟空》——我如何在15天内用精湛技艺/手艺雕刻出孙悟空木雕</td>\n",
       "      <td>越南木雕小哥Duy</td>\n",
       "      <td>https://www.bilibili.com/video/BV1Bvi9YLE2Q/</td>\n",
       "      <td>11:45</td>\n",
       "      <td>705</td>\n",
       "      <td>425</td>\n",
       "      <td>154</td>\n",
       "      <td>94</td>\n",
       "      <td>20</td>\n",
       "      <td>8414</td>\n",
       "      <td>11</td>\n",
       "      <td>2024-12-06 11:42:00</td>\n",
       "      <td>2024</td>\n",
       "      <td>12</td>\n",
       "      <td>7932.333333</td>\n",
       "    </tr>\n",
       "  </tbody>\n",
       "</table>\n",
       "</div>"
      ],
      "text/plain": [
       "                                  Title         Up  \\\n",
       "398            【木雕】神奇！如何四分钟在木头上雕出一朵小花来！         卞九   \n",
       "37               《非遗中国·重庆瑰宝》第19集：奉节阴沉木雕      非遗小当家   \n",
       "131  《黑神话：悟空》——我如何在15天内用精湛技艺/手艺雕刻出孙悟空木雕  越南木雕小哥Duy   \n",
       "\n",
       "                                             Link Duration  Duration_sec  点赞量  \\\n",
       "398  https://www.bilibili.com/video/BV1qx411m7Xh/    04:13           253   50   \n",
       "37   https://www.bilibili.com/video/BV1Cx411i7Wy/    15:00           900   15   \n",
       "131  https://www.bilibili.com/video/BV1Bvi9YLE2Q/    11:45           705  425   \n",
       "\n",
       "     投币量  收藏量  转发量    播放量  弹幕量                发布时间  Publish Year  \\\n",
       "398  128  682   40  34000  135 2017-05-07 21:34:30          2017   \n",
       "37     5   67   45   2030    1 2017-07-22 19:45:12          2017   \n",
       "131  154   94   20   8414   11 2024-12-06 11:42:00          2024   \n",
       "\n",
       "     Publish Month  recommend_rate  \n",
       "398              5    29512.666667  \n",
       "37               7     1876.666667  \n",
       "131             12     7932.333333  "
      ]
     },
     "execution_count": 31,
     "metadata": {},
     "output_type": "execute_result"
    }
   ],
   "source": [
    "raw_data.sample (3)"
   ]
  },
  {
   "cell_type": "markdown",
   "id": "e740f307-932b-431c-811d-90cd1e31a733",
   "metadata": {},
   "source": [
    "## 3 Exploratory Data Analysis"
   ]
  },
  {
   "cell_type": "markdown",
   "id": "20df6bd0-7ae3-4bc9-9c1f-57d0f8adadf1",
   "metadata": {},
   "source": [
    "### 3.1 Relationship Between Video Duration and Likes"
   ]
  },
  {
   "cell_type": "code",
   "execution_count": 35,
   "id": "3d74da64-afe0-4125-a353-a2ac83d6a040",
   "metadata": {},
   "outputs": [
    {
     "data": {
      "image/png": "[encoded data removed]"
     },
     "metadata": {},
     "output_type": "display_data"
    }
   ],
   "source": [
    "fig1 = px.scatter (\n",
    "    data_frame = raw_data,\n",
    "    x = \"Duration_sec\", \n",
    "    y = \"点赞量\",\n",
    "    size = \"播放量\",\n",
    "    color = \"投币量\", color_continuous_scale=px.colors.sequential.Plasma_r,\n",
    "    title = \"The Relationship Between Likes/Views/Coins and Video Duration\",\n",
    "    labels = {\"投币量\":\"Coins\"},\n",
    "    hover_data = [\"Title\", \"Up\", \"Duration\"]\n",
    ")\n",
    "fig1.update_layout (\n",
    "    width = 800, height = 400,\n",
    "    xaxis_title = \"Video Duration (sec)\", yaxis_title = \"Likes\",\n",
    "    title_x = 0.5\n",
    ")\n",
    "fig1.show('png')"
   ]
  },
  {
   "cell_type": "markdown",
   "id": "8d79159e-3209-448a-9488-c57ef12f2251",
   "metadata": {},
   "source": [
    "### Finding:\n",
    "1. The **most popular** about wood carving culture got <u/>479K likes, 3.65M views, and 11K coins</u>. The result indicates that the group who is interested in wood carving culture is larger than expected.\n",
    "2. **Top 5** wood carving videos with the most likes and views are *mostly short videos* (from 1 mins to 9 mins).\n",
    "3. Interesting Finding: Kevin的木头 and 木姬空语 seem to be the most popular video author in this genre."
   ]
  },
  {
   "cell_type": "markdown",
   "id": "adbecceb-c266-4fab-8264-a48fd3e7e6bb",
   "metadata": {},
   "source": [
    "### 3.2 Who are Promoting the Wood Carving Culture Heritage"
   ]
  },
  {
   "cell_type": "code",
   "execution_count": 39,
   "id": "da50be3c-0031-4678-b94d-c19a95f06f96",
   "metadata": {},
   "outputs": [
    {
     "name": "stdout",
     "output_type": "stream",
     "text": [
      "          Up  video_count\n",
      "0     学木工的小王           20\n",
      "1    玩臻文玩_龙凯           14\n",
      "2   K师傅和他的徒弟           12\n",
      "3   Kevin的木头            9\n",
      "4      账号已注销            9\n",
      "5        刁刻岛            8\n",
      "6      木匠小学徒            7\n",
      "7      一个大岳儿            7\n",
      "8       木雕小哥            6\n",
      "9       木姬空语            5\n",
      "10      倾听木者            5\n"
     ]
    }
   ],
   "source": [
    "up_video_count = raw_data[\"Up\"].value_counts().reset_index()\n",
    "up_video_count.columns = [\"Up\", \"video_count\"]\n",
    "up_count = up_video_count[up_video_count[\"video_count\"]>=5]\n",
    "print(up_count)"
   ]
  },
  {
   "cell_type": "code",
   "execution_count": 43,
   "id": "77a200be-8cc3-4a79-b3ab-c58402eb1642",
   "metadata": {},
   "outputs": [
    {
     "data": {
      "image/png": "[encoded data removed]"
     },
     "metadata": {},
     "output_type": "display_data"
    }
   ],
   "source": [
    "fig2 = px.bar(\n",
    "    up_count,\n",
    "    x=\"video_count\",\n",
    "    y=\"Up\",\n",
    "    orientation=\"h\",  # 横向条形图\n",
    "    title=\"Top 10 UP 主发布的视频数量\",\n",
    "    labels={\"video_count\": \"视频数量\", \"Up\": \"UP 主\"},\n",
    "    color=\"video_count\",  # 根据视频数量改变颜色\n",
    "    color_continuous_scale=\"viridis\"  # 使用 viridis 色彩\n",
    ")\n",
    "fig2.update_layout (\n",
    "    width = 800, height = 400,\n",
    "    xaxis_title = \"Video Count\", yaxis_title = \"Up name\",\n",
    "    title_x = 0.5\n",
    ")\n",
    "fig2.show('png')"
   ]
  },
  {
   "cell_type": "markdown",
   "id": "112e596a-a5f8-429a-813f-c95e42ef10d6",
   "metadata": {},
   "source": [
    "### Finding:\n",
    "1. There are **424 wood carving videos** posted by **269 authors**.\n",
    "2. The author with the most posted videos published 20 videos (学木工的小王).\n",
    "3. Since the handmade wood carving artworks usually take long time to finish, the frequency of publishing related videos is low."
   ]
  },
  {
   "cell_type": "markdown",
   "id": "ce83a266-924b-48b7-85d9-82beaa8d0690",
   "metadata": {},
   "source": [
    "### 3.3 Influential Level of video authors"
   ]
  },
  {
   "cell_type": "code",
   "execution_count": 51,
   "id": "fbf95abe-8238-4fa2-9647-95cb4e05c390",
   "metadata": {},
   "outputs": [
    {
     "data": {
      "text/html": [
       "<div>\n",
       "<style scoped>\n",
       "    .dataframe tbody tr th:only-of-type {\n",
       "        vertical-align: middle;\n",
       "    }\n",
       "\n",
       "    .dataframe tbody tr th {\n",
       "        vertical-align: top;\n",
       "    }\n",
       "\n",
       "    .dataframe thead th {\n",
       "        text-align: right;\n",
       "    }\n",
       "</style>\n",
       "<table border=\"1\" class=\"dataframe\">\n",
       "  <thead>\n",
       "    <tr style=\"text-align: right;\">\n",
       "      <th></th>\n",
       "      <th>Up</th>\n",
       "      <th>点赞量</th>\n",
       "    </tr>\n",
       "  </thead>\n",
       "  <tbody>\n",
       "    <tr>\n",
       "      <th>0</th>\n",
       "      <td>1NJ2</td>\n",
       "      <td>0.0</td>\n",
       "    </tr>\n",
       "    <tr>\n",
       "      <th>1</th>\n",
       "      <td>21世纪经济报道视频</td>\n",
       "      <td>2.0</td>\n",
       "    </tr>\n",
       "    <tr>\n",
       "      <th>2</th>\n",
       "      <td>Chikizzzzzz</td>\n",
       "      <td>14.0</td>\n",
       "    </tr>\n",
       "    <tr>\n",
       "      <th>3</th>\n",
       "      <td>CleoYangProject</td>\n",
       "      <td>90.0</td>\n",
       "    </tr>\n",
       "    <tr>\n",
       "      <th>4</th>\n",
       "      <td>Cris14gsh</td>\n",
       "      <td>60.0</td>\n",
       "    </tr>\n",
       "    <tr>\n",
       "      <th>...</th>\n",
       "      <td>...</td>\n",
       "      <td>...</td>\n",
       "    </tr>\n",
       "    <tr>\n",
       "      <th>264</th>\n",
       "      <td>饿入托</td>\n",
       "      <td>3.0</td>\n",
       "    </tr>\n",
       "    <tr>\n",
       "      <th>265</th>\n",
       "      <td>馨泽世界鍺</td>\n",
       "      <td>77.0</td>\n",
       "    </tr>\n",
       "    <tr>\n",
       "      <th>266</th>\n",
       "      <td>高清视频素材精选</td>\n",
       "      <td>24.0</td>\n",
       "    </tr>\n",
       "    <tr>\n",
       "      <th>267</th>\n",
       "      <td>麟K</td>\n",
       "      <td>1.0</td>\n",
       "    </tr>\n",
       "    <tr>\n",
       "      <th>268</th>\n",
       "      <td>鼠王本杰明</td>\n",
       "      <td>211.0</td>\n",
       "    </tr>\n",
       "  </tbody>\n",
       "</table>\n",
       "<p>269 rows × 2 columns</p>\n",
       "</div>"
      ],
      "text/plain": [
       "                  Up    点赞量\n",
       "0               1NJ2    0.0\n",
       "1         21世纪经济报道视频    2.0\n",
       "2        Chikizzzzzz   14.0\n",
       "3    CleoYangProject   90.0\n",
       "4          Cris14gsh   60.0\n",
       "..               ...    ...\n",
       "264              饿入托    3.0\n",
       "265            馨泽世界鍺   77.0\n",
       "266         高清视频素材精选   24.0\n",
       "267               麟K    1.0\n",
       "268            鼠王本杰明  211.0\n",
       "\n",
       "[269 rows x 2 columns]"
      ]
     },
     "execution_count": 51,
     "metadata": {},
     "output_type": "execute_result"
    }
   ],
   "source": [
    "up_avg_like = pd.DataFrame(raw_data.groupby(\"Up\")[\"点赞量\"].mean()).reset_index()\n",
    "up_avg_like"
   ]
  },
  {
   "cell_type": "code",
   "execution_count": 53,
   "id": "86d4e3d1-a210-40a5-855c-14ccb502af6a",
   "metadata": {},
   "outputs": [
    {
     "data": {
      "text/html": [
       "<div>\n",
       "<style scoped>\n",
       "    .dataframe tbody tr th:only-of-type {\n",
       "        vertical-align: middle;\n",
       "    }\n",
       "\n",
       "    .dataframe tbody tr th {\n",
       "        vertical-align: top;\n",
       "    }\n",
       "\n",
       "    .dataframe thead th {\n",
       "        text-align: right;\n",
       "    }\n",
       "</style>\n",
       "<table border=\"1\" class=\"dataframe\">\n",
       "  <thead>\n",
       "    <tr style=\"text-align: right;\">\n",
       "      <th></th>\n",
       "      <th>Up</th>\n",
       "      <th>video_count</th>\n",
       "      <th>点赞量</th>\n",
       "    </tr>\n",
       "  </thead>\n",
       "  <tbody>\n",
       "    <tr>\n",
       "      <th>3</th>\n",
       "      <td>Kevin的木头</td>\n",
       "      <td>9</td>\n",
       "      <td>136995.111111</td>\n",
       "    </tr>\n",
       "    <tr>\n",
       "      <th>9</th>\n",
       "      <td>木姬空语</td>\n",
       "      <td>5</td>\n",
       "      <td>106269.400000</td>\n",
       "    </tr>\n",
       "    <tr>\n",
       "      <th>35</th>\n",
       "      <td>只看艺眼</td>\n",
       "      <td>2</td>\n",
       "      <td>74060.000000</td>\n",
       "    </tr>\n",
       "    <tr>\n",
       "      <th>155</th>\n",
       "      <td>二更视频</td>\n",
       "      <td>1</td>\n",
       "      <td>53000.000000</td>\n",
       "    </tr>\n",
       "    <tr>\n",
       "      <th>58</th>\n",
       "      <td>竹木技艺大师</td>\n",
       "      <td>1</td>\n",
       "      <td>46000.000000</td>\n",
       "    </tr>\n",
       "    <tr>\n",
       "      <th>31</th>\n",
       "      <td>诸葛舌头</td>\n",
       "      <td>2</td>\n",
       "      <td>34861.500000</td>\n",
       "    </tr>\n",
       "    <tr>\n",
       "      <th>256</th>\n",
       "      <td>三国杀</td>\n",
       "      <td>1</td>\n",
       "      <td>33000.000000</td>\n",
       "    </tr>\n",
       "    <tr>\n",
       "      <th>2</th>\n",
       "      <td>K师傅和他的徒弟</td>\n",
       "      <td>12</td>\n",
       "      <td>27735.583333</td>\n",
       "    </tr>\n",
       "    <tr>\n",
       "      <th>76</th>\n",
       "      <td>霓守艺小武哥</td>\n",
       "      <td>1</td>\n",
       "      <td>23000.000000</td>\n",
       "    </tr>\n",
       "    <tr>\n",
       "      <th>7</th>\n",
       "      <td>一个大岳儿</td>\n",
       "      <td>7</td>\n",
       "      <td>20668.571429</td>\n",
       "    </tr>\n",
       "    <tr>\n",
       "      <th>233</th>\n",
       "      <td>枫之韵的虫生</td>\n",
       "      <td>1</td>\n",
       "      <td>19000.000000</td>\n",
       "    </tr>\n",
       "  </tbody>\n",
       "</table>\n",
       "</div>"
      ],
      "text/plain": [
       "           Up  video_count            点赞量\n",
       "3    Kevin的木头            9  136995.111111\n",
       "9        木姬空语            5  106269.400000\n",
       "35       只看艺眼            2   74060.000000\n",
       "155      二更视频            1   53000.000000\n",
       "58     竹木技艺大师            1   46000.000000\n",
       "31       诸葛舌头            2   34861.500000\n",
       "256       三国杀            1   33000.000000\n",
       "2    K师傅和他的徒弟           12   27735.583333\n",
       "76     霓守艺小武哥            1   23000.000000\n",
       "7       一个大岳儿            7   20668.571429\n",
       "233    枫之韵的虫生            1   19000.000000"
      ]
     },
     "execution_count": 53,
     "metadata": {},
     "output_type": "execute_result"
    }
   ],
   "source": [
    "pd.merge(up_video_count, up_avg_like, on=\"Up\", how=\"left\").sort_values(by=\"点赞量\",ascending=False).head(11)"
   ]
  },
  {
   "cell_type": "markdown",
   "id": "1219b74a-3159-40bf-8b86-542baf0e664c",
   "metadata": {},
   "source": [
    "### Finding:\n",
    "1. Only **2 authors** achieved 100K+ likes on average, and top 10 authors got over 20K+ likes."
   ]
  },
  {
   "cell_type": "markdown",
   "id": "2cb36940-5264-45e2-80a3-616ccf820c4e",
   "metadata": {},
   "source": [
    "### 3.4 Annual Growth Trend of Wood Carving Culture Heritage Videos"
   ]
  },
  {
   "cell_type": "code",
   "execution_count": 57,
   "id": "0bca0b2a-96a3-49da-8e2f-5d5db7122567",
   "metadata": {},
   "outputs": [
    {
     "data": {
      "text/html": [
       "<div>\n",
       "<style scoped>\n",
       "    .dataframe tbody tr th:only-of-type {\n",
       "        vertical-align: middle;\n",
       "    }\n",
       "\n",
       "    .dataframe tbody tr th {\n",
       "        vertical-align: top;\n",
       "    }\n",
       "\n",
       "    .dataframe thead th {\n",
       "        text-align: right;\n",
       "    }\n",
       "</style>\n",
       "<table border=\"1\" class=\"dataframe\">\n",
       "  <thead>\n",
       "    <tr style=\"text-align: right;\">\n",
       "      <th></th>\n",
       "      <th>Publish Year</th>\n",
       "      <th>Count by Year</th>\n",
       "    </tr>\n",
       "  </thead>\n",
       "  <tbody>\n",
       "    <tr>\n",
       "      <th>0</th>\n",
       "      <td>2016</td>\n",
       "      <td>1</td>\n",
       "    </tr>\n",
       "    <tr>\n",
       "      <th>1</th>\n",
       "      <td>2017</td>\n",
       "      <td>9</td>\n",
       "    </tr>\n",
       "    <tr>\n",
       "      <th>2</th>\n",
       "      <td>2018</td>\n",
       "      <td>6</td>\n",
       "    </tr>\n",
       "    <tr>\n",
       "      <th>3</th>\n",
       "      <td>2019</td>\n",
       "      <td>15</td>\n",
       "    </tr>\n",
       "    <tr>\n",
       "      <th>4</th>\n",
       "      <td>2020</td>\n",
       "      <td>25</td>\n",
       "    </tr>\n",
       "    <tr>\n",
       "      <th>5</th>\n",
       "      <td>2021</td>\n",
       "      <td>57</td>\n",
       "    </tr>\n",
       "    <tr>\n",
       "      <th>6</th>\n",
       "      <td>2022</td>\n",
       "      <td>81</td>\n",
       "    </tr>\n",
       "    <tr>\n",
       "      <th>7</th>\n",
       "      <td>2023</td>\n",
       "      <td>83</td>\n",
       "    </tr>\n",
       "    <tr>\n",
       "      <th>8</th>\n",
       "      <td>2024</td>\n",
       "      <td>92</td>\n",
       "    </tr>\n",
       "    <tr>\n",
       "      <th>9</th>\n",
       "      <td>2025</td>\n",
       "      <td>55</td>\n",
       "    </tr>\n",
       "  </tbody>\n",
       "</table>\n",
       "</div>"
      ],
      "text/plain": [
       "   Publish Year  Count by Year\n",
       "0          2016              1\n",
       "1          2017              9\n",
       "2          2018              6\n",
       "3          2019             15\n",
       "4          2020             25\n",
       "5          2021             57\n",
       "6          2022             81\n",
       "7          2023             83\n",
       "8          2024             92\n",
       "9          2025             55"
      ]
     },
     "execution_count": 57,
     "metadata": {},
     "output_type": "execute_result"
    }
   ],
   "source": [
    "video_by_year = pd.DataFrame(raw_data.groupby(\"Publish Year\").size()).reset_index()\n",
    "video_by_year.columns = [\"Publish Year\", \"Count by Year\"]\n",
    "video_by_year"
   ]
  },
  {
   "cell_type": "code",
   "execution_count": 59,
   "id": "152ae8e8-8272-4c95-aff2-5e26b1553c1d",
   "metadata": {},
   "outputs": [
    {
     "data": {
      "image/png": "[encoded data removed]"
     },
     "metadata": {},
     "output_type": "display_data"
    }
   ],
   "source": [
    "fig3 = px.bar(\n",
    "    video_by_year,\n",
    "    x = \"Publish Year\",\n",
    "    y = \"Count by Year\",\n",
    "    color = \"Count by Year\",\n",
    "    color_continuous_scale = px.colors.sequential.Brwnyl,\n",
    "    title = \"Number of Wood Carving Culture Heritage Videos by Year\",\n",
    "    text = \"Count by Year\"\n",
    ")\n",
    "\n",
    "# add trend line on the bar chart\n",
    "fig3.add_trace(\n",
    "    go.Scatter(\n",
    "        x = video_by_year[\"Publish Year\"],\n",
    "        y = video_by_year[\"Count by Year\"],\n",
    "        mode = \"lines+markers\",\n",
    "        line = dict(color=\"brown\", dash=\"dashdot\"),\n",
    "        name = \"Video Count\"\n",
    "    )\n",
    ")\n",
    "\n",
    "fig3.update_layout(\n",
    "    height = 320,\n",
    "    width = 800,\n",
    "    title_x = 0.5,\n",
    "    yaxis_title = \"Numbers of Videos\",\n",
    "    showlegend = False,\n",
    "    xaxis = dict(tickvals=list(range(2016,2026))),\n",
    ")\n",
    "\n",
    "fig3.show('png')"
   ]
  },
  {
   "cell_type": "markdown",
   "id": "575e2927-b1a4-4b76-9fcb-2a12646cf076",
   "metadata": {},
   "source": [
    "### Finding:\n",
    "1. According to the bar chart and the line chart, **the earlist** wood carving culture heritage video on Bilibili platform was published **in 2016**, and the number of the videos has **continuously increased since 2018**.\n",
    "    - **Background Information**: In 2018, the Ministry of Culture and Tourism identified the fifth batch of national intangible culture heritage representative projects, including wood carving culture.\n",
    "    - [Reference](https://www.mct.gov.cn/whzx/bnsj/fwzwhycs/201902/t20190212_837272.html)\n",
    "2. In **2021**, the number of intangible culture heritage of wood carving videos **significantly increased**.\n",
    "    - **Background Inforamtion**: In 2021, the Chinese government issued *\"Opinions on Further Strengthening the protection of intangible cultural heritage\"*(《关于进一步加强非物质文化遗产保护工作的意见》), which **standardice and improve the promotion of wood carving culture**. This policy helped intangible culture heritage to adapt the trend of deep media integration, enrich dissemination method, and expand communication channels.\n",
    "    - [Reference](https://www.gov.cn/zhengce/2021-08/12/content_5630974.htm)"
   ]
  },
  {
   "cell_type": "markdown",
   "id": "d9f5a1f6-306b-4f3e-865a-b1b9fe3953a9",
   "metadata": {},
   "source": [
    "### 3.5 Seasonalnality of Wood Carving Culture Heritage Growth"
   ]
  },
  {
   "cell_type": "code",
   "execution_count": 63,
   "id": "f5d903c4-950f-4c1a-96e1-8575b76b253d",
   "metadata": {},
   "outputs": [
    {
     "data": {
      "text/html": [
       "<div>\n",
       "<style scoped>\n",
       "    .dataframe tbody tr th:only-of-type {\n",
       "        vertical-align: middle;\n",
       "    }\n",
       "\n",
       "    .dataframe tbody tr th {\n",
       "        vertical-align: top;\n",
       "    }\n",
       "\n",
       "    .dataframe thead th {\n",
       "        text-align: right;\n",
       "    }\n",
       "</style>\n",
       "<table border=\"1\" class=\"dataframe\">\n",
       "  <thead>\n",
       "    <tr style=\"text-align: right;\">\n",
       "      <th></th>\n",
       "      <th>Publish by Month</th>\n",
       "      <th>Count by Month</th>\n",
       "    </tr>\n",
       "  </thead>\n",
       "  <tbody>\n",
       "    <tr>\n",
       "      <th>0</th>\n",
       "      <td>1</td>\n",
       "      <td>39</td>\n",
       "    </tr>\n",
       "    <tr>\n",
       "      <th>1</th>\n",
       "      <td>2</td>\n",
       "      <td>43</td>\n",
       "    </tr>\n",
       "    <tr>\n",
       "      <th>2</th>\n",
       "      <td>3</td>\n",
       "      <td>53</td>\n",
       "    </tr>\n",
       "    <tr>\n",
       "      <th>3</th>\n",
       "      <td>4</td>\n",
       "      <td>22</td>\n",
       "    </tr>\n",
       "    <tr>\n",
       "      <th>4</th>\n",
       "      <td>5</td>\n",
       "      <td>35</td>\n",
       "    </tr>\n",
       "    <tr>\n",
       "      <th>5</th>\n",
       "      <td>6</td>\n",
       "      <td>25</td>\n",
       "    </tr>\n",
       "    <tr>\n",
       "      <th>6</th>\n",
       "      <td>7</td>\n",
       "      <td>35</td>\n",
       "    </tr>\n",
       "    <tr>\n",
       "      <th>7</th>\n",
       "      <td>8</td>\n",
       "      <td>41</td>\n",
       "    </tr>\n",
       "    <tr>\n",
       "      <th>8</th>\n",
       "      <td>9</td>\n",
       "      <td>29</td>\n",
       "    </tr>\n",
       "    <tr>\n",
       "      <th>9</th>\n",
       "      <td>10</td>\n",
       "      <td>28</td>\n",
       "    </tr>\n",
       "    <tr>\n",
       "      <th>10</th>\n",
       "      <td>11</td>\n",
       "      <td>36</td>\n",
       "    </tr>\n",
       "    <tr>\n",
       "      <th>11</th>\n",
       "      <td>12</td>\n",
       "      <td>38</td>\n",
       "    </tr>\n",
       "  </tbody>\n",
       "</table>\n",
       "</div>"
      ],
      "text/plain": [
       "    Publish by Month  Count by Month\n",
       "0                  1              39\n",
       "1                  2              43\n",
       "2                  3              53\n",
       "3                  4              22\n",
       "4                  5              35\n",
       "5                  6              25\n",
       "6                  7              35\n",
       "7                  8              41\n",
       "8                  9              29\n",
       "9                 10              28\n",
       "10                11              36\n",
       "11                12              38"
      ]
     },
     "execution_count": 63,
     "metadata": {},
     "output_type": "execute_result"
    }
   ],
   "source": [
    "video_by_month = pd.DataFrame(raw_data.groupby(\"Publish Month\").size()).reset_index()\n",
    "video_by_month.columns = [\"Publish by Month\", \"Count by Month\"]\n",
    "video_by_month"
   ]
  },
  {
   "cell_type": "code",
   "execution_count": 65,
   "id": "942f1322-d92e-4c1f-86a5-d927b454d9fb",
   "metadata": {},
   "outputs": [
    {
     "data": {
      "image/png": "[encoded data removed]"
     },
     "metadata": {},
     "output_type": "display_data"
    }
   ],
   "source": [
    "fig4 = px.bar(\n",
    "    video_by_month,\n",
    "    x = \"Publish by Month\",\n",
    "    y = \"Count by Month\",\n",
    "    color = \"Count by Month\",\n",
    "    color_continuous_scale = px.colors.sequential.Brwnyl,\n",
    "    title = \"Number of Wood Carving Culture Heritage Videos by Month\",\n",
    "    text = \"Count by Month\"\n",
    ")\n",
    "\n",
    "fig4.add_trace(\n",
    "    go.Scatter(\n",
    "        x = video_by_month[\"Publish by Month\"],\n",
    "        y = video_by_month[\"Count by Month\"],\n",
    "        mode = \"lines+markers\",\n",
    "        line = dict(color=\"brown\", dash=\"dashdot\"),\n",
    "        name = \"Video Count\"\n",
    "    )\n",
    ")\n",
    "\n",
    "fig4.update_layout(\n",
    "    height = 320,\n",
    "    width = 800,\n",
    "    title_x = 0.5,\n",
    "    yaxis_title = \"Numbers of Videos\",\n",
    "    showlegend = False,\n",
    "    coloraxis_showscale = False,\n",
    "    xaxis = dict(tickvals=list(range(1,13))),\n",
    ")\n",
    "\n",
    "fig4.show('png')"
   ]
  },
  {
   "cell_type": "markdown",
   "id": "6838ae8f-9937-44a3-8e1b-fc4acb8970f7",
   "metadata": {},
   "source": [
    "### Finding\n",
    "1. We detected an **increasing trend** of video posts *from Nov. to Mar.*\n",
    "2. *Additional background information*: wood carving artworks are usually carved in fall and winter seasons (Sept to Feb), **when the climate is dry, and the wood is in the stable state.**\n",
    "3. Conserdering the time it takes to complete the wood carving pieces and edit the videos, this is why most wood carving videos are posted from Nov. to Mar."
   ]
  },
  {
   "cell_type": "markdown",
   "id": "1b5a69c6-8d05-4d83-b561-96e89d313061",
   "metadata": {},
   "source": [
    "### 3.6 Dissemination Rate of Wood Carving Culture Heritage Videos"
   ]
  },
  {
   "cell_type": "code",
   "execution_count": 69,
   "id": "bd7b71db-20dc-4393-9730-c87b3f28e19b",
   "metadata": {},
   "outputs": [
    {
     "data": {
      "text/plain": [
       "0      13248.333333\n",
       "1       2702.000000\n",
       "2         29.166667\n",
       "3       8021.666667\n",
       "4       4139.500000\n",
       "           ...     \n",
       "419     3108.000000\n",
       "420       17.000000\n",
       "421     1989.166667\n",
       "422      391.166667\n",
       "423       59.833333\n",
       "Name: recommend_rate, Length: 424, dtype: float64"
      ]
     },
     "execution_count": 69,
     "metadata": {},
     "output_type": "execute_result"
    }
   ],
   "source": [
    "raw_data[\"recommend_rate\"]"
   ]
  },
  {
   "cell_type": "code",
   "execution_count": 71,
   "id": "b22d85ee-3e7a-4480-93a7-9ffa61da9117",
   "metadata": {},
   "outputs": [
    {
     "data": {
      "image/png": "[encoded data removed]"
     },
     "metadata": {},
     "output_type": "display_data"
    }
   ],
   "source": [
    "fig5 = px.scatter (\n",
    "    data_frame = raw_data,\n",
    "    x = \"recommend_rate\", \n",
    "    y = \"播放量\",\n",
    "    title = \"The Wood Carving Videos Recommendation Rate Evaluated by Bilibili\",\n",
    "    hover_data = [\"Title\", \"Up\"]\n",
    ")\n",
    "\n",
    "fig5.add_shape(\n",
    "    type=\"line\",\n",
    "    x0=0, y0=0,\n",
    "    x1=raw_data[\"recommend_rate\"].max(),\n",
    "    y1=raw_data[\"播放量\"].max(),\n",
    "    line = dict(color=\"red\", dash=\"dashdot\",width=1),\n",
    ")\n",
    "\n",
    "fig5.update_layout (\n",
    "    width = 800, height = 600,\n",
    "    xaxis_title = \"Recommendation Rate\", yaxis_title = \"Views\",\n",
    "    title_x = 0.5\n",
    ")\n",
    "fig5.show('png')"
   ]
  },
  {
   "cell_type": "markdown",
   "id": "032f06cd-cf60-4a60-a46c-df1dd05f606d",
   "metadata": {},
   "source": [
    "### Finding:\n",
    "1. Based the evaluation algorithm of Bilibili recommendation system, the wood carving videos that will be recommended are those that have already received the most views. This indicates that **even the most popular** niche culture videos are **still undervalued**."
   ]
  },
  {
   "cell_type": "markdown",
   "id": "827b50d1-9d7b-4065-b7c8-4fdb9db1f33d",
   "metadata": {},
   "source": [
    "### Reusable Function: Generate Corpus"
   ]
  },
  {
   "cell_type": "code",
   "execution_count": 80,
   "id": "92fe56f1-15d9-4cf4-980b-3e238005b192",
   "metadata": {},
   "outputs": [],
   "source": [
    "'''\n",
    "date: April 19 2025\n",
    "@ author: Susan Sun\n",
    "-function: To generate corpus from a text column in a dataframe.\n",
    "-parameters:\n",
    "    - df: a pandas dataframe\n",
    "    - col: a String, name of the text column\n",
    "-return:\n",
    "    - token_df: a pandas dataframe contains tokens, frequencies, and word counts\n",
    "'''\n",
    "def generate_corpus (df, col):\n",
    "    import jieba\n",
    "    '''get topics from the videos titles'''\n",
    "    corpus = []\n",
    "    for (text) in df[col]:\n",
    "        words = list(jieba.cut_for_search(text))\n",
    "        corpus.extend(words)\n",
    "        \n",
    "    '''count frequency of each bigrams'''\n",
    "    from collections import Counter \n",
    "    token_count = dict(Counter(corpus))\n",
    "    token_df = pd.DataFrame(token_count.items(),columns=[\"token\",\"frequency\"])\n",
    "    token_df[\"word count\"] = token_df[\"token\"].apply(lambda x: len (x))\n",
    "    token_df = token_df[(token_df[\"word count\"]>1) & (token_df[\"frequency\"]>5)]\n",
    "    token_df = token_df.sort_values(by=\"frequency\",ascending=False).reset_index(drop=True)\n",
    "\n",
    "    return token_df"
   ]
  },
  {
   "cell_type": "markdown",
   "id": "1eeaa17f-4e49-4d9c-91e3-a80a7c94e155",
   "metadata": {},
   "source": [
    "### 3.7 Text Analysis on Key Words in the Video Titles"
   ]
  },
  {
   "cell_type": "code",
   "execution_count": 83,
   "id": "cf085b6c-d8df-4b7b-b493-0060bacec060",
   "metadata": {},
   "outputs": [
    {
     "data": {
      "image/png": "[encoded data removed]"
     },
     "metadata": {},
     "output_type": "display_data"
    }
   ],
   "source": [
    "token_df = generate_corpus(df = raw_data, col = \"Title\").iloc[1:31]\n",
    "\n",
    "fig5 = px.bar(\n",
    "    token_df,\n",
    "    x = \"token\",\n",
    "    y = \"frequency\",\n",
    "    color = \"frequency\",\n",
    "    color_continuous_scale = px.colors.sequential.Brwnyl,\n",
    "    title = \"Top 30 frequent key words in wood carving video titles\",\n",
    "    text = \"frequency\"\n",
    ")\n",
    "\n",
    "\n",
    "fig5.update_layout(\n",
    "    height = 400,\n",
    "    width = 800,\n",
    "    title_x = 0.5,\n",
    "    xaxis_title = \"Key Word\",\n",
    "    xaxis_tickangle = 45,\n",
    "    yaxis_title = \"Frequency\",\n",
    "    showlegend = False,\n",
    "    coloraxis_showscale = False,\n",
    ")\n",
    "\n",
    "fig5.show('png')"
   ]
  },
  {
   "cell_type": "markdown",
   "id": "1261a775-a847-4fca-9fa9-88faae3ca64b",
   "metadata": {},
   "source": [
    "### Finding:\n",
    "- In addition to the search key word **\"intangible wood carving culture\"**, the titles of these videos also include key words, such as **\"China\", \"Handmade\",\"Art\", \"inheritage\", \"Tradition\", and \"Craftsmanship\"**. This indicates that those key words may also attract people who are interested in *the overall intangible culture heritage* and *traditional Chinese crafts*, driving people's attentions to **niche culture**."
   ]
  },
  {
   "cell_type": "markdown",
   "id": "bcdf3723-2992-459d-b70a-f8794833645f",
   "metadata": {},
   "source": [
    "### 3.8 Explore the Commercial Promotion of Wood Carving Culture"
   ]
  },
  {
   "cell_type": "code",
   "execution_count": 87,
   "id": "11eb8956-199d-40f0-917e-107e69f94170",
   "metadata": {},
   "outputs": [
    {
     "data": {
      "text/plain": [
       "0.01179245283018868"
      ]
     },
     "execution_count": 87,
     "metadata": {},
     "output_type": "execute_result"
    }
   ],
   "source": [
    "raw_data[\"Title\"].str.contains(\"合作|联名|同款|广告|推广|钱|买|卖|商品\").mean()"
   ]
  },
  {
   "cell_type": "markdown",
   "id": "d84f4176-0fbd-409d-b9bf-8e5a0ae4b576",
   "metadata": {},
   "source": [
    "### Finding:\n",
    "- The **commercialization level** of intangible wood carving culture heritage videos is **quite low**, with only **1.18%** of the videos containing words such as \"buy\",\"sell\",\"commodity\", \"products\", and \"ads\".\n",
    "- According to the report of industrial development and commercial operation of intangible culture heritage, culture products such as clay sculpture, folk art, embroidery, and wood carving can enter the market. While ensuring the seriousness and the authenicity this kind of culture, appropriate commercial operation may bring more positive development and descentation to the wood carving art.\n",
    "- [Reference](https://hhwhy.lzu.edu.cn/c/202312/200.html)"
   ]
  },
  {
   "cell_type": "markdown",
   "id": "74e960d8-0e65-4929-bac7-5a703a6de566",
   "metadata": {},
   "source": [
    "### 3.9 Compare Wood Carvings across Regions in China"
   ]
  },
  {
   "cell_type": "code",
   "execution_count": 99,
   "id": "82d1fae9-09e2-435f-a832-a24ee4738196",
   "metadata": {},
   "outputs": [
    {
     "name": "stdout",
     "output_type": "stream",
     "text": [
      "count of chaozhou wood carving videos: 19\n",
      "average likes for chaozhou videos: 30\n",
      "count of fujian wood carving videos: 16\n",
      "average likes for fujian videos: 55\n",
      "count of anhui wood carving videos: 3\n",
      "average likes for anhui videos: 28\n",
      "count of dongyang wood carving videos: 8\n",
      "average likes for dongyang videos: 5796\n",
      "count of jianchuan wood carving videos: 9\n",
      "average likes for jianchuan videos: 969\n"
     ]
    }
   ],
   "source": [
    "chaozhou = raw_data[raw_data[\"Title\"].str.contains(\"潮州|广东\")]\n",
    "print(f\"count of chaozhou wood carving videos: {len(chaozhou)}\")\n",
    "print(\"average likes for chaozhou videos:\",round(chaozhou[\"点赞量\"].mean()))\n",
    "\n",
    "fujian = raw_data[raw_data[\"Title\"].str.contains(\"莆田|福建\")]\n",
    "print(f\"count of fujian wood carving videos: {len(fujian)}\")\n",
    "print(\"average likes for fujian videos:\", round(fujian[\"点赞量\"].mean()))\n",
    "\n",
    "anhui = raw_data[raw_data[\"Title\"].str.contains(\"安徽|徽州\")]\n",
    "print(f\"count of anhui wood carving videos: {len(anhui)}\")\n",
    "print(\"average likes for anhui videos:\", round(anhui[\"点赞量\"].mean()))\n",
    "\n",
    "dongyang = raw_data[raw_data[\"Title\"].str.contains(\"东阳|浙江\")]\n",
    "print(f\"count of dongyang wood carving videos: {len(dongyang)}\")\n",
    "print(\"average likes for dongyang videos:\", round(dongyang[\"点赞量\"].mean()))\n",
    "\n",
    "jianchuan = raw_data[raw_data[\"Title\"].str.contains(\"剑川|云南\")]\n",
    "print(f\"count of jianchuan wood carving videos: {len(jianchuan)}\")\n",
    "print(\"average likes for jianchuan videos:\", round(jianchuan[\"点赞量\"].mean()))"
   ]
  },
  {
   "cell_type": "markdown",
   "id": "472f10c0-8405-4b14-b7a2-2d397eb51b81",
   "metadata": {},
   "source": [
    "### Comparison of Wood Carving Videos across Regions in China\n",
    "|Region|Video Count|Average Video Likes|\n",
    "|:-------------------------------------|----------------:|--------------:|\n",
    "|Chaozhou,Guangdong|19|30|\n",
    "|Putian,Fujian|16|55|\n",
    "|Huizhou,Anhui|3|28|\n",
    "|Dongyang,Zhejiang|8|**5796**|\n",
    "|Jianchuan,Yunnan|9|969\n",
    "\n",
    "Finding:\n",
    "- Among five major regions of wood carving heritage, **Dongyang is with the most average likes**, becuase Dongyang wood carving collaborated with the game *\"Three Kingdoms\"* and movie *\"Investiture of the Gods\"* to produce **themed wood carving works**.\n",
    "- Additionally, **Jianchuan is with second the most average likes**, because the video publishers of Jianchuan wood carving works are mainly **official political and tourism accounts**.\n",
    "- This indicates that apporiate **commercial promotion** will bring more fans from other fields, while the **government official promotion** can increase the credibility and authority of the videos."
   ]
  },
  {
   "cell_type": "markdown",
   "id": "350d7946-e964-416a-9adf-c5d6490cecdb",
   "metadata": {},
   "source": [
    "# Project Summary\n",
    "## Goal\n",
    "- To analyze the promotion and dissemination of intengible wood carving culture heritage on Chinese social media platform.\n",
    "- To investigate the growth trend of public's attention to intengible wood carving culture heritage.\n",
    "- To explore the recommendation mechanism of the video platform for specific culture.\n",
    "## Data Set\n",
    "- **Data Source**: Developed a **reusable scraper** algorithm to crawl the data from Bilibili, a Chinese video platform.\n",
    "- **Data Description**: 424 wood carving culture heritage videos posted by 269 video authors, including general video information(title, pulished date, and author, etc.) and audience interaction data(like, coins, and shares etc.).\n",
    "## Data Cleaning & Feature Engineering\n",
    "- Cleaned the raw data by filtering irrelevant contents, detecting abnormal values, dropping duplicates, standardizing units, and unifing data types.\n",
    "- Generated new features based on existed variables, including \"published year\" and \"publish month\" for later analysis on peak periods of wood carving culture promotion.\n",
    "- Calculate \"recommend rate\" based on metrics of audience interactions and the platform recommend algorithm.\n",
    "## Exploratory Data Analysis\n",
    "- Applied **Plotly interactive scatter plot** to visualize **\"The Relationship Between Likes/Views/Coins and Video Duration\"** for all wood carving culture videos.\n",
    "- Detected the **\"Top 10 Video Authors of Wood Carving Culture Heritage Vidoes\"**, using **Plotly bar chart** to see who are promoting this niche culture, and identified the **influencial levels of these authors** by calculating average likes of their videos.\n",
    "- Explored **Annual Growth Trend of Wood Carving Culture Heritage Videos** by counting the number of videos posted each year, and **investigated the seasonalnality of wood carving making**.\n",
    "- **Evaluated the recommendation rate** of wood carving culture heritage videos based on Bilibili recommendation algorithm.\n",
    "- Conducted **text analysis** on video titles using *jieba* package to **generate corpus**, and **created bi-grams to find the most frequent key words** in wood carving videos.\n",
    "- **Explored the commercialization level** of intengible wood carving culture to see its possibility of entering the market.\n",
    "## Findings\n",
    "- Find them in the documentations."
   ]
  }
 ],
 "metadata": {
  "kernelspec": {
   "display_name": "Python 3 (ipykernel)",
   "language": "python",
   "name": "python3"
  },
  "language_info": {
   "codemirror_mode": {
    "name": "ipython",
    "version": 3
   },
   "file_extension": ".py",
   "mimetype": "text/x-python",
   "name": "python",
   "nbconvert_exporter": "python",
   "pygments_lexer": "ipython3",
   "version": "3.12.7"
  }
 },
 "nbformat": 4,
 "nbformat_minor": 5
}
